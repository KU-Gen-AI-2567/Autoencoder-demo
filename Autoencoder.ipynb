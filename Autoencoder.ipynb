{
  "cells": [
    {
      "cell_type": "markdown",
      "metadata": {
        "id": "view-in-github",
        "colab_type": "text"
      },
      "source": [
        "<a href=\"https://colab.research.google.com/github/KU-Gen-AI-2567/Autoencoder-demo/blob/main/Autoencoder.ipynb\" target=\"_parent\"><img src=\"https://colab.research.google.com/assets/colab-badge.svg\" alt=\"Open In Colab\"/></a>"
      ]
    },
    {
      "cell_type": "markdown",
      "metadata": {
        "id": "2RFFS3nb2HUV"
      },
      "source": [
        "# Autoencoder - 01418496 (หมู่เรียน 200)"
      ]
    },
    {
      "cell_type": "code",
      "execution_count": 12,
      "metadata": {
        "colab": {
          "base_uri": "https://localhost:8080/",
          "height": 36
        },
        "id": "Dp00gzR5kuTH",
        "outputId": "9974d7f8-6cd9-4ab6-8792-f8c6717fa461"
      },
      "outputs": [
        {
          "output_type": "execute_result",
          "data": {
            "text/plain": [
              "'2.17.1'"
            ],
            "application/vnd.google.colaboratory.intrinsic+json": {
              "type": "string"
            }
          },
          "metadata": {},
          "execution_count": 12
        }
      ],
      "source": [
        "import tensorflow as tf\n",
        "import matplotlib.pyplot as plt\n",
        "import kagglehub\n",
        "import shutil\n",
        "import os\n",
        "tf.__version__"
      ]
    },
    {
      "cell_type": "code",
      "source": [
        "import numpy as np\n",
        "from PIL import Image"
      ],
      "metadata": {
        "id": "TG3I8YDq9JtE"
      },
      "execution_count": 13,
      "outputs": []
    },
    {
      "cell_type": "markdown",
      "metadata": {
        "id": "3359yCF52HUb"
      },
      "source": [
        "### Setting to execute on Processor (GPU or CPU)"
      ]
    },
    {
      "cell_type": "code",
      "execution_count": 14,
      "metadata": {
        "colab": {
          "base_uri": "https://localhost:8080/"
        },
        "id": "uvRC4lHb2HUc",
        "outputId": "85d29cf7-7359-4d1a-f382-ab7b7dd2941c"
      },
      "outputs": [
        {
          "output_type": "stream",
          "name": "stdout",
          "text": [
            "Execute on CPU\n"
          ]
        }
      ],
      "source": [
        "gpus = tf.config.list_physical_devices(\"GPU\")\n",
        "if len(gpus) > 0:\n",
        "    tf.config.experimental.set_memory_growth(gpus[0], True)\n",
        "    print(\"Execute on GPU\")\n",
        "else:\n",
        "    print(\"Execute on CPU\")"
      ]
    },
    {
      "cell_type": "markdown",
      "metadata": {
        "id": "wbv2zUQD2HUd"
      },
      "source": [
        "### Download Dataset"
      ]
    },
    {
      "cell_type": "code",
      "execution_count": 15,
      "metadata": {
        "colab": {
          "base_uri": "https://localhost:8080/"
        },
        "id": "0uy-9T6t2HUe",
        "outputId": "8a88786a-244a-482b-82c1-793612a94741"
      },
      "outputs": [
        {
          "output_type": "stream",
          "name": "stdout",
          "text": [
            "Download Dataset Already\n"
          ]
        }
      ],
      "source": [
        "# Download the dataset folder in latest version\n",
        "if not \"dataset\" in os.listdir(\".\"):\n",
        "    path = kagglehub.dataset_download(\"tongpython/cat-and-dog/version/1\")\n",
        "    print(\"Path to dataset files:\", path)\n",
        "    shutil.move(path, \"./dataset\")\n",
        "    print(\"Download Dataset Complete\")\n",
        "else:\n",
        "    print(\"Download Dataset Already\")"
      ]
    },
    {
      "cell_type": "markdown",
      "source": [
        "## Prepossessing\n"
      ],
      "metadata": {
        "id": "VIG8d9m3-Ssg"
      }
    },
    {
      "cell_type": "code",
      "source": [
        "dataset_path = \"./dataset\"\n",
        "for dirpath, dirnames, filenames in os.walk(dataset_path):\n",
        "    print(f\"Path: {dirpath}, Subdirectories: {dirnames}, Files: {len(filenames)}\")"
      ],
      "metadata": {
        "colab": {
          "base_uri": "https://localhost:8080/"
        },
        "id": "EXlnsZQK2IpQ",
        "outputId": "3bbf5b5f-5fb6-4e94-bb51-60dbc9c6e8bf"
      },
      "execution_count": 16,
      "outputs": [
        {
          "output_type": "stream",
          "name": "stdout",
          "text": [
            "Path: ./dataset, Subdirectories: ['test_set', 'training_set'], Files: 0\n",
            "Path: ./dataset/test_set, Subdirectories: ['test_set'], Files: 0\n",
            "Path: ./dataset/test_set/test_set, Subdirectories: ['cats', 'dogs'], Files: 0\n",
            "Path: ./dataset/test_set/test_set/cats, Subdirectories: [], Files: 1012\n",
            "Path: ./dataset/test_set/test_set/dogs, Subdirectories: [], Files: 1013\n",
            "Path: ./dataset/training_set, Subdirectories: ['training_set'], Files: 0\n",
            "Path: ./dataset/training_set/training_set, Subdirectories: ['cats', 'dogs'], Files: 0\n",
            "Path: ./dataset/training_set/training_set/cats, Subdirectories: [], Files: 4001\n",
            "Path: ./dataset/training_set/training_set/dogs, Subdirectories: [], Files: 4006\n"
          ]
        }
      ]
    },
    {
      "cell_type": "code",
      "source": [
        "def preprocess(imgs):\n",
        "    imgs = imgs.astype(\"float32\") / 255.0  # Normalize pixel values to [0, 1]\n",
        "    imgs = np.pad(imgs, ((0, 0), (2, 2), (2, 2), (0, 0)), constant_values=0.0)\n",
        "    return imgs\n",
        "\n",
        "def to_image(img):\n",
        "    img = np.squeeze(img)\n",
        "    return Image.fromarray(np.uint8(img * 255))"
      ],
      "metadata": {
        "id": "tpGg1qbZ9Gxc"
      },
      "execution_count": 17,
      "outputs": []
    },
    {
      "cell_type": "code",
      "source": [
        "def dataset_to_numpy_and_preprocess(dataset):\n",
        "    images, labels = [], []\n",
        "    for img_batch, label_batch in dataset:\n",
        "        images.append(img_batch.numpy())\n",
        "        labels.append(label_batch.numpy())\n",
        "    imgs = np.concatenate(images)\n",
        "    lbls = np.concatenate(labels)\n",
        "    return preprocess(imgs), lbls"
      ],
      "metadata": {
        "id": "7timVFCA9WHU"
      },
      "execution_count": 18,
      "outputs": []
    },
    {
      "cell_type": "code",
      "source": [
        "train_dir = \"./dataset/training_set/training_set\"\n",
        "test_dir = \"./dataset/test_set/test_set\""
      ],
      "metadata": {
        "id": "82c55B4957qs"
      },
      "execution_count": 19,
      "outputs": []
    },
    {
      "cell_type": "code",
      "source": [
        "train_dataset = tf.keras.preprocessing.image_dataset_from_directory(\n",
        "    train_dir,\n",
        "    image_size=(100, 100),  # Resize images\n",
        "    batch_size=32,\n",
        ")\n",
        "\n",
        "test_dataset = tf.keras.preprocessing.image_dataset_from_directory(\n",
        "    test_dir,\n",
        "    image_size=(100, 100),\n",
        "    batch_size=32,\n",
        ")\n",
        "\n",
        "X_train, y_train = dataset_to_numpy_and_preprocess(train_dataset)\n",
        "X_test, y_test = dataset_to_numpy_and_preprocess(test_dataset)"
      ],
      "metadata": {
        "colab": {
          "base_uri": "https://localhost:8080/"
        },
        "id": "z6hs_wsd6RgT",
        "outputId": "8fbe16a3-cc2a-4374-f2b9-c6fbc8f813d4"
      },
      "execution_count": 20,
      "outputs": [
        {
          "output_type": "stream",
          "name": "stdout",
          "text": [
            "Found 8005 files belonging to 2 classes.\n",
            "Found 2023 files belonging to 2 classes.\n"
          ]
        }
      ]
    },
    {
      "cell_type": "code",
      "source": [
        "print(\"X_train shape:\", X_train.shape)\n",
        "print(\"y_train shape:\", y_train.shape)\n",
        "print(\"X_test shape:\", X_test.shape)\n",
        "print(\"y_test shape:\", y_test.shape)"
      ],
      "metadata": {
        "colab": {
          "base_uri": "https://localhost:8080/"
        },
        "id": "RsNkXu-_-ANl",
        "outputId": "6780ce6f-3d0b-441d-f5a2-89a7a95ab9a6"
      },
      "execution_count": 21,
      "outputs": [
        {
          "output_type": "stream",
          "name": "stdout",
          "text": [
            "X_train shape: (8005, 104, 104, 3)\n",
            "y_train shape: (8005,)\n",
            "X_test shape: (2023, 104, 104, 3)\n",
            "y_test shape: (2023,)\n"
          ]
        }
      ]
    },
    {
      "cell_type": "code",
      "source": [
        "to_image(X_train[0])"
      ],
      "metadata": {
        "colab": {
          "base_uri": "https://localhost:8080/",
          "height": 121
        },
        "id": "akMsFIjo-OIU",
        "outputId": "479e1b39-0a57-4309-9a21-2b45312b1b3a"
      },
      "execution_count": 22,
      "outputs": [
        {
          "output_type": "execute_result",
          "data": {
            "text/plain": [
              "<PIL.Image.Image image mode=RGB size=104x104>"
            ],
            "image/png": "[encoded data removed]",
            "image/jpeg": "[encoded data removed]"
          },
          "metadata": {},
          "execution_count": 22
        }
      ]
    }
  ],
  "metadata": {
    "colab": {
      "provenance": [],
      "include_colab_link": true
    },
    "kernelspec": {
      "display_name": "GenAI_Env",
      "language": "python",
      "name": "python3"
    },
    "language_info": {
      "codemirror_mode": {
        "name": "ipython",
        "version": 3
      },
      "file_extension": ".py",
      "mimetype": "text/x-python",
      "name": "python",
      "nbconvert_exporter": "python",
      "pygments_lexer": "ipython3",
      "version": "3.12.8"
    }
  },
  "nbformat": 4,
  "nbformat_minor": 0
}